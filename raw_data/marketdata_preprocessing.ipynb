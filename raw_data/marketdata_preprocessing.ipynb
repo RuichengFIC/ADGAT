{
 "cells": [
  {
   "cell_type": "code",
   "execution_count": 7,
   "metadata": {},
   "outputs": [],
   "source": [
    "import pandas as pd \n",
    "import numpy as np\n",
    "import json\n",
    "import pickle"
   ]
  },
  {
   "cell_type": "code",
   "execution_count": 34,
   "metadata": {},
   "outputs": [],
   "source": [
    "Selected_Stock = ['NYSE:AAP', 'NYSE:ABC', 'NYSE:ABT', 'NYSE:ADM', 'NYSE:ADS',\n",
    "'NYSE:AEP', 'NYSE:AES', 'NYSE:AET', 'NYSE:AFL', 'NYSE:AGN',\n",
    "'NYSE:AIG', 'NYSE:ALK', 'NYSE:ALL', 'NYSE:AMD', 'NYSE:AMP',\n",
    "'NYSE:APA', 'NYSE:APC', 'NYSE:AXP', 'NYSE:BA', 'NYSE:BAC',\n",
    "'NYSE:BAX', 'NYSE:BBT', 'NYSE:BBY', 'NYSE:BEN', 'NYSE:BK',\n",
    "'NYSE:BLK', 'NYSE:BLL', 'NYSE:BMY', 'NYSE:BSX', 'NYSE:CAG',\n",
    "'NYSE:CAT', 'NYSE:CB', 'NYSE:CBG', 'NYSE:CF', 'NYSE:CHK',\n",
    "'NYSE:CI', 'NYSE:CL', 'NYSE:CMA', 'NYSE:CMI', 'NYSE:CMS',\n",
    "'NYSE:COF', 'NYSE:COO', 'NYSE:COP', 'NYSE:CPB', 'NYSE:CRM',\n",
    "'NYSE:CSX', 'NYSE:CVS', 'NYSE:CVX', 'NYSE:DE', 'NYSE:DIS',\n",
    "'NYSE:DTE', 'NYSE:DUK', 'NYSE:ED', 'NYSE:EIX', 'NYSE:EL',\n",
    "'NYSE:EMN', 'NYSE:EMR', 'NYSE:EQT', 'NYSE:ETR', 'NYSE:EXC',\n",
    "'NYSE:F', 'NYSE:FCX', 'NYSE:FDX', 'NYSE:FE', 'NYSE:FL', 'NYSE:GD',\n",
    "'NYSE:GE', 'NYSE:GIS', 'NYSE:GPS', 'NYSE:GS', 'NYSE:HAL',\n",
    "'NYSE:HD', 'NYSE:HES', 'NYSE:HIG', 'NYSE:HOG', 'NYSE:HON',\n",
    "'NYSE:HP', 'NYSE:HPQ', 'NYSE:HUM', 'NYSE:IBM', 'NYSE:ICE',\n",
    "'NYSE:IP', 'NYSE:IT', 'NYSE:JCI', 'NYSE:JNJ', 'NYSE:JPM',\n",
    "'NYSE:JWN', 'NYSE:K', 'NYSE:KEY', 'NYSE:KMB', 'NYSE:KO', 'NYSE:KR',\n",
    "'NYSE:LEG', 'NYSE:LLY', 'NYSE:LMT', 'NYSE:LOW', 'NYSE:LUK',\n",
    "'NYSE:LUV', 'NYSE:MA', 'NYSE:MAS', 'NYSE:MCD', 'NYSE:MCO',\n",
    "'NYSE:MDT', 'NYSE:MET', 'NYSE:MGM', 'NYSE:MMM', 'NYSE:MO',\n",
    "'NYSE:MON', 'NYSE:MOS', 'NYSE:MRK', 'NYSE:MRO', 'NYSE:MS',\n",
    "'NYSE:NBL', 'NYSE:NEM', 'NYSE:NI', 'NYSE:NKE', 'NYSE:NOC',\n",
    "'NYSE:NOV', 'NYSE:NRG', 'NYSE:NUE', 'NYSE:OXY', 'NYSE:PCG',\n",
    "'NYSE:PEG', 'NYSE:PEP', 'NYSE:PFE', 'NYSE:PFG', 'NYSE:PG',\n",
    "'NYSE:PGR', 'NYSE:PH', 'NYSE:PHM', 'NYSE:PNC', 'NYSE:PRU',\n",
    "'NYSE:PX', 'NYSE:RF', 'NYSE:RJF', 'NYSE:RL', 'NYSE:RTN',\n",
    "'NYSE:SEE', 'NYSE:SJM', 'NYSE:SO', 'NYSE:SRE', 'NYSE:STI',\n",
    "'NYSE:STT', 'NYSE:T', 'NYSE:TGT', 'NYSE:TIF', 'NYSE:TSN',\n",
    "'NYSE:TWX', 'NYSE:TXT', 'NYSE:UNH', 'NYSE:UNP', 'NYSE:UPS',\n",
    "'NYSE:USB', 'NYSE:UTX', 'NYSE:VLO', 'NYSE:VZ', 'NYSE:WFC',\n",
    "'NYSE:WHR', 'NYSE:WMB', 'NYSE:WMT', 'NYSE:WU', 'NYSE:WYN',\n",
    "'NYSE:XOM', 'NYSE:XRX', 'NYSE:YUM', 'NasdaqGS:AAPL',\n",
    "'NasdaqGS:ADBE', 'NasdaqGS:ALGN', 'NasdaqGS:AMAT', 'NasdaqGS:AMGN',\n",
    "'NasdaqGS:AMZN', 'NasdaqGS:ATVI', 'NasdaqGS:BIIB',\n",
    "'NasdaqGS:CMCSA', 'NasdaqGS:COST', 'NasdaqGS:CSCO',\n",
    "'NasdaqGS:CTSH', 'NasdaqGS:DISH', 'NasdaqGS:EBAY', 'NasdaqGS:ESRX',\n",
    "'NasdaqGS:EXPE', 'NasdaqGS:FAST', 'NasdaqGS:GILD', 'NasdaqGS:GOOG',\n",
    "'NasdaqGS:INTC', 'NasdaqGS:INTU', 'NasdaqGS:MSFT', 'NasdaqGS:NDAQ',\n",
    "'NasdaqGS:NFLX', 'NasdaqGS:NTRS', 'NasdaqGS:NVDA', 'NasdaqGS:QCOM',\n",
    "'NasdaqGS:SBUX', 'NasdaqGS:SYMC', 'NasdaqGS:TROW', 'NasdaqGS:TSCO',\n",
    "'NasdaqGS:WYNN', 'NasdaqGS:XRAY']"
   ]
  },
  {
   "cell_type": "code",
   "execution_count": 35,
   "metadata": {},
   "outputs": [],
   "source": [
    "Selected_Stock = [x.replace(\"NYSE:\",\"1\") for x in Selected_Stock]\n",
    "Selected_Stock = [x.replace(\"NasdaqGS:\",\"3\") for x in Selected_Stock]\n",
    "Selected_Stock = set(Selected_Stock)"
   ]
  },
  {
   "cell_type": "code",
   "execution_count": null,
   "metadata": {},
   "outputs": [],
   "source": [
    "stock_data = pd.read_csv(\"./StockData/market_data_0607.csv\")"
   ]
  },
  {
   "cell_type": "code",
   "execution_count": null,
   "metadata": {},
   "outputs": [],
   "source": [
    "companys = pd.read_csv(\"./constituents.csv\")"
   ]
  },
  {
   "cell_type": "code",
   "execution_count": null,
   "metadata": {},
   "outputs": [],
   "source": [
    "#filter by constituents\n",
    "stock_data = stock_data[stock_data.TICKER.isin(companys.Symbol.values)]\n",
    "#filter by database rules\n",
    "stock_data = stock_data[stock_data[\"SHRCD\"] == 11]\n",
    "stock_data = stock_data[stock_data[\"EXCHCD\"].isin([1,2,3])]\n",
    "stock_data = stock_data[stock_data[\"TRDSTAT\"] == \"A\"]\n",
    "#filter by missing values\n",
    "stock_data =  stock_data[-pd.isna(stock_data[\"BIDLO\"])]\n",
    "stock_data =  stock_data[-pd.isna(stock_data[\"ASKHI\"])]\n",
    "stock_data =  stock_data[-pd.isna(stock_data[\"PRC\"])]\n",
    "stock_data =  stock_data[-pd.isna(stock_data[\"VOL\"])]\n",
    "stock_data =  stock_data[-pd.isna(stock_data[\"SHROUT\"])]\n",
    "stock_data =  stock_data[-pd.isna(stock_data[\"OPENPRC\"])]\n",
    "#unique_id = exchcd + ticker\n",
    "stock_data[\"STOCK_ID\"] = stock_data[\"EXCHCD\"].astype(int).astype(str) + stock_data[\"TICKER\"]"
   ]
  },
  {
   "cell_type": "code",
   "execution_count": null,
   "metadata": {},
   "outputs": [],
   "source": [
    "#filter by complete trascation record\n",
    "full_time = len(stock_data[\"date\"].unique())\n",
    "count_stock_trans = stock_data.groupby(\"STOCK_ID\").count()\n",
    "selected = count_stock_trans[count_stock_trans[\"date\"] == full_time].index\n",
    "selected_data  = stock_data[stock_data[\"STOCK_ID\"].isin(selected)]\n",
    "selected_data = selected_data.sort_values([\"STOCK_ID\",\"date\"]).reset_index(drop = True)"
   ]
  },
  {
   "cell_type": "code",
   "execution_count": null,
   "metadata": {},
   "outputs": [],
   "source": [
    "def shift_col(x, forward = True):\n",
    "    x = list(x)\n",
    "    if forward:\n",
    "        return ([1] + x)[:-1]\n",
    "    else:\n",
    "        return (x + [1])[1:]\n",
    "    \n",
    "def normalize_col(x):\n",
    "    mean = np.mean(x[:1500])\n",
    "    std = np.std(x[:1500])\n",
    "    x =  (x - mean) / std\n",
    "    return x"
   ]
  },
  {
   "cell_type": "code",
   "execution_count": null,
   "metadata": {},
   "outputs": [],
   "source": [
    "##new feature\n",
    "selected_data[\"earning rate\"] = (selected_data[\"PRC\"] - selected_data[\"OPENPRC\"]) / selected_data[\"OPENPRC\"]\n",
    "selected_data[\"BIDLO_rate\"] = (selected_data[\"BIDLO\"] - selected_data[\"OPENPRC\"]) / selected_data[\"OPENPRC\"]\n",
    "selected_data[\"ASKHI_rate\"] = (selected_data[\"ASKHI\"] - selected_data[\"OPENPRC\"]) / selected_data[\"OPENPRC\"]\n",
    "selected_data[\"turnover\"] = selected_data[\"VOL\"] / selected_data[\"SHROUT\"] / 1000\n",
    "##shift earning rate y earning_rate_tmr\n",
    "##shift opening price\n",
    "grouped = selected_data.groupby(\"STOCK_ID\")\n",
    "selected_data[\"earning_rate_tmr\"] = grouped[\"earning rate\"].transform(shift_col,False)\n",
    "selected_data[\"PRC_yes\"] = grouped[\"PRC\"].transform(shift_col,True)\n",
    "selected_data[\"open_rate\"] = (selected_data[\"OPENPRC\"] - selected_data[\"PRC_yes\"]) / selected_data[\"PRC_yes\"]\n",
    "selected_data[\"open_rate_tmr\"] = grouped[\"open_rate\"].transform(shift_col,False)\n",
    "##delete the last call\n",
    "selected_data = selected_data.groupby([\"STOCK_ID\"], group_keys=False).apply(lambda x: x.iloc[:-1])\n",
    "selected_data.reset_index(drop = True, inplace=True)"
   ]
  },
  {
   "cell_type": "code",
   "execution_count": 21,
   "metadata": {},
   "outputs": [],
   "source": [
    "##normalize\n",
    "selected_data[\"BIDLO_rate\"] = grouped[\"BIDLO_rate\"].transform(normalize_col)\n",
    "selected_data[\"ASKHI_rate\"] = grouped[\"ASKHI_rate\"].transform(normalize_col)\n",
    "selected_data[\"turnover\"] = grouped[\"turnover\"].transform(normalize_col)\n",
    "selected_data[\"earning rate\"] = grouped[\"earning rate\"].transform(normalize_col)\n",
    "selected_data[\"open_rate_tmr\"] = grouped[\"open_rate_tmr\"].transform(normalize_col)"
   ]
  },
  {
   "cell_type": "code",
   "execution_count": 29,
   "metadata": {},
   "outputs": [],
   "source": [
    "##Align with news\n",
    "stocks = selected_data.groupby([\"STOCK_ID\"], group_keys=False).apply(lambda x: x.iloc[14:])\n",
    "stocks = stocks.groupby([\"STOCK_ID\"], group_keys=False).apply(lambda x: x.iloc[:-28])\n",
    "stocks = stocks[stocks[\"STOCK_ID\"].isin(Selected_Stock)]"
   ]
  },
  {
   "cell_type": "code",
   "execution_count": 51,
   "metadata": {},
   "outputs": [],
   "source": [
    "Xs = stocks.sort_values([\"date\",\"STOCK_ID\"])[[\"BIDLO_rate\",\"ASKHI_rate\",\"turnover\",\"earning_rate\",\"open_rate_tmr\"]].values\n",
    "Ys = stocks.sort_values([\"date\",\"STOCK_ID\"])[[\"earning_rate_tmr\"]].values"
   ]
  },
  {
   "cell_type": "code",
   "execution_count": 43,
   "metadata": {},
   "outputs": [],
   "source": [
    "# x_numerical\n",
    "Xs = Xs[-730:]\n",
    "# y_numerical\n",
    "Ys = Ys[-730:]"
   ]
  }
 ],
 "metadata": {
  "kernelspec": {
   "display_name": "Python 3",
   "language": "python",
   "name": "python3"
  },
  "language_info": {
   "codemirror_mode": {
    "name": "ipython",
    "version": 3
   },
   "file_extension": ".py",
   "mimetype": "text/x-python",
   "name": "python",
   "nbconvert_exporter": "python",
   "pygments_lexer": "ipython3",
   "version": "3.8.8"
  }
 },
 "nbformat": 4,
 "nbformat_minor": 2
}
